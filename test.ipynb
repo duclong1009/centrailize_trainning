{
 "cells": [
  {
   "cell_type": "code",
   "execution_count": null,
   "metadata": {},
   "outputs": [
    {
     "ename": "",
     "evalue": "",
     "output_type": "error",
     "traceback": [
      "\u001b[1;31mFailed to start the Kernel. \n",
      "\u001b[1;31mFailed to start the Kernel 'tensorflow (Python 3.8.16)'. \n",
      "\u001b[1;31mView Jupyter <a href='command:jupyter.viewOutput'>log</a> for further details. Cannot find module './351.node.js'\n",
      "\u001b[1;31mRequire stack:\n",
      "\u001b[1;31m- /home/long/.vscode-server/extensions/ms-toolsai.jupyter-2023.1.2010391206/out/extension.node.js\n",
      "\u001b[1;31m- /home/long/.vscode-server/bin/8b617bd08fd9e3fc94d14adb8d358b56e3f72314/out/vs/loader.js\n",
      "\u001b[1;31m- /home/long/.vscode-server/bin/8b617bd08fd9e3fc94d14adb8d358b56e3f72314/out/bootstrap-amd.js\n",
      "\u001b[1;31m- /home/long/.vscode-server/bin/8b617bd08fd9e3fc94d14adb8d358b56e3f72314/out/bootstrap-fork.js"
     ]
    }
   ],
   "source": [
    "import pulp"
   ]
  },
  {
   "cell_type": "code",
   "execution_count": null,
   "metadata": {},
   "outputs": [],
   "source": []
  }
 ],
 "metadata": {
  "kernelspec": {
   "display_name": "tensorflow",
   "language": "python",
   "name": "python3"
  },
  "language_info": {
   "name": "python",
   "version": "3.8.16"
  },
  "orig_nbformat": 4,
  "vscode": {
   "interpreter": {
    "hash": "61a43ad20b0d51440dc2385495807dc7c9203065fb04d5534798620976b0cbac"
   }
  }
 },
 "nbformat": 4,
 "nbformat_minor": 2
}
